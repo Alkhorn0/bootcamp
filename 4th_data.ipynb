{
 "cells": [
  {
   "cell_type": "code",
   "execution_count": 2,
   "source": [
    "import pandas as pd"
   ],
   "outputs": [],
   "metadata": {}
  },
  {
   "cell_type": "code",
   "execution_count": 3,
   "source": [
    "df = pd.read_csv('./4th_data.csv')"
   ],
   "outputs": [],
   "metadata": {}
  },
  {
   "cell_type": "code",
   "execution_count": 4,
   "source": [
    "df"
   ],
   "outputs": [
    {
     "output_type": "execute_result",
     "data": {
      "text/plain": [
       "       caseID                taskID originator eventtype         timestamp  \\\n",
       "0           1          FirstContact       Dian  complete   1970-01-02 8:08   \n",
       "1           1            MakeTicket       Dian     start   1970-01-02 8:08   \n",
       "2           1            MakeTicket       Dian  complete   1970-01-02 8:11   \n",
       "3           1         ArrangeSurvey       Dian     start   1970-01-02 8:11   \n",
       "4           1         ArrangeSurvey       Dian  complete   1970-01-02 8:16   \n",
       "...       ...                   ...        ...       ...               ...   \n",
       "13257    1000          InternRepair       John  complete  1970-01-19 18:34   \n",
       "13258    1000           RepairReady     System  complete  1970-01-19 18:34   \n",
       "13259    1000  SendTicketToFinAdmin     System  complete   1970-01-20 1:11   \n",
       "13260    1000     ReadyInformClient     System  complete   1970-01-20 2:25   \n",
       "13261    1000           TicketReady     System  complete   1970-01-20 2:25   \n",
       "\n",
       "      contact RepairType  objectKey RepairInternally  EstimatedRepairTime  \\\n",
       "0       Phone        NaN        NaN              NaN                  NaN   \n",
       "1         NaN        NaN        NaN              NaN                  NaN   \n",
       "2         NaN          E     1340.0              NaN                  NaN   \n",
       "3         NaN        NaN        NaN              NaN                  NaN   \n",
       "4         NaN        NaN        NaN              NaN                  NaN   \n",
       "...       ...        ...        ...              ...                  ...   \n",
       "13257     NaN        NaN        NaN              NaN                  NaN   \n",
       "13258     NaN        NaN        NaN              NaN                  NaN   \n",
       "13259     NaN        NaN        NaN              NaN                  NaN   \n",
       "13260     NaN        NaN        NaN              NaN                  NaN   \n",
       "13261     NaN        NaN        NaN              NaN                  NaN   \n",
       "\n",
       "       RepairCode RepairOK  \n",
       "0             NaN      NaN  \n",
       "1             NaN      NaN  \n",
       "2             NaN      NaN  \n",
       "3             NaN      NaN  \n",
       "4             NaN      NaN  \n",
       "...           ...      ...  \n",
       "13257         NaN      NaN  \n",
       "13258         NaN     True  \n",
       "13259         NaN      NaN  \n",
       "13260         NaN     True  \n",
       "13261         NaN      NaN  \n",
       "\n",
       "[13262 rows x 12 columns]"
      ],
      "text/html": [
       "<div>\n",
       "<style scoped>\n",
       "    .dataframe tbody tr th:only-of-type {\n",
       "        vertical-align: middle;\n",
       "    }\n",
       "\n",
       "    .dataframe tbody tr th {\n",
       "        vertical-align: top;\n",
       "    }\n",
       "\n",
       "    .dataframe thead th {\n",
       "        text-align: right;\n",
       "    }\n",
       "</style>\n",
       "<table border=\"1\" class=\"dataframe\">\n",
       "  <thead>\n",
       "    <tr style=\"text-align: right;\">\n",
       "      <th></th>\n",
       "      <th>caseID</th>\n",
       "      <th>taskID</th>\n",
       "      <th>originator</th>\n",
       "      <th>eventtype</th>\n",
       "      <th>timestamp</th>\n",
       "      <th>contact</th>\n",
       "      <th>RepairType</th>\n",
       "      <th>objectKey</th>\n",
       "      <th>RepairInternally</th>\n",
       "      <th>EstimatedRepairTime</th>\n",
       "      <th>RepairCode</th>\n",
       "      <th>RepairOK</th>\n",
       "    </tr>\n",
       "  </thead>\n",
       "  <tbody>\n",
       "    <tr>\n",
       "      <th>0</th>\n",
       "      <td>1</td>\n",
       "      <td>FirstContact</td>\n",
       "      <td>Dian</td>\n",
       "      <td>complete</td>\n",
       "      <td>1970-01-02 8:08</td>\n",
       "      <td>Phone</td>\n",
       "      <td>NaN</td>\n",
       "      <td>NaN</td>\n",
       "      <td>NaN</td>\n",
       "      <td>NaN</td>\n",
       "      <td>NaN</td>\n",
       "      <td>NaN</td>\n",
       "    </tr>\n",
       "    <tr>\n",
       "      <th>1</th>\n",
       "      <td>1</td>\n",
       "      <td>MakeTicket</td>\n",
       "      <td>Dian</td>\n",
       "      <td>start</td>\n",
       "      <td>1970-01-02 8:08</td>\n",
       "      <td>NaN</td>\n",
       "      <td>NaN</td>\n",
       "      <td>NaN</td>\n",
       "      <td>NaN</td>\n",
       "      <td>NaN</td>\n",
       "      <td>NaN</td>\n",
       "      <td>NaN</td>\n",
       "    </tr>\n",
       "    <tr>\n",
       "      <th>2</th>\n",
       "      <td>1</td>\n",
       "      <td>MakeTicket</td>\n",
       "      <td>Dian</td>\n",
       "      <td>complete</td>\n",
       "      <td>1970-01-02 8:11</td>\n",
       "      <td>NaN</td>\n",
       "      <td>E</td>\n",
       "      <td>1340.0</td>\n",
       "      <td>NaN</td>\n",
       "      <td>NaN</td>\n",
       "      <td>NaN</td>\n",
       "      <td>NaN</td>\n",
       "    </tr>\n",
       "    <tr>\n",
       "      <th>3</th>\n",
       "      <td>1</td>\n",
       "      <td>ArrangeSurvey</td>\n",
       "      <td>Dian</td>\n",
       "      <td>start</td>\n",
       "      <td>1970-01-02 8:11</td>\n",
       "      <td>NaN</td>\n",
       "      <td>NaN</td>\n",
       "      <td>NaN</td>\n",
       "      <td>NaN</td>\n",
       "      <td>NaN</td>\n",
       "      <td>NaN</td>\n",
       "      <td>NaN</td>\n",
       "    </tr>\n",
       "    <tr>\n",
       "      <th>4</th>\n",
       "      <td>1</td>\n",
       "      <td>ArrangeSurvey</td>\n",
       "      <td>Dian</td>\n",
       "      <td>complete</td>\n",
       "      <td>1970-01-02 8:16</td>\n",
       "      <td>NaN</td>\n",
       "      <td>NaN</td>\n",
       "      <td>NaN</td>\n",
       "      <td>NaN</td>\n",
       "      <td>NaN</td>\n",
       "      <td>NaN</td>\n",
       "      <td>NaN</td>\n",
       "    </tr>\n",
       "    <tr>\n",
       "      <th>...</th>\n",
       "      <td>...</td>\n",
       "      <td>...</td>\n",
       "      <td>...</td>\n",
       "      <td>...</td>\n",
       "      <td>...</td>\n",
       "      <td>...</td>\n",
       "      <td>...</td>\n",
       "      <td>...</td>\n",
       "      <td>...</td>\n",
       "      <td>...</td>\n",
       "      <td>...</td>\n",
       "      <td>...</td>\n",
       "    </tr>\n",
       "    <tr>\n",
       "      <th>13257</th>\n",
       "      <td>1000</td>\n",
       "      <td>InternRepair</td>\n",
       "      <td>John</td>\n",
       "      <td>complete</td>\n",
       "      <td>1970-01-19 18:34</td>\n",
       "      <td>NaN</td>\n",
       "      <td>NaN</td>\n",
       "      <td>NaN</td>\n",
       "      <td>NaN</td>\n",
       "      <td>NaN</td>\n",
       "      <td>NaN</td>\n",
       "      <td>NaN</td>\n",
       "    </tr>\n",
       "    <tr>\n",
       "      <th>13258</th>\n",
       "      <td>1000</td>\n",
       "      <td>RepairReady</td>\n",
       "      <td>System</td>\n",
       "      <td>complete</td>\n",
       "      <td>1970-01-19 18:34</td>\n",
       "      <td>NaN</td>\n",
       "      <td>NaN</td>\n",
       "      <td>NaN</td>\n",
       "      <td>NaN</td>\n",
       "      <td>NaN</td>\n",
       "      <td>NaN</td>\n",
       "      <td>True</td>\n",
       "    </tr>\n",
       "    <tr>\n",
       "      <th>13259</th>\n",
       "      <td>1000</td>\n",
       "      <td>SendTicketToFinAdmin</td>\n",
       "      <td>System</td>\n",
       "      <td>complete</td>\n",
       "      <td>1970-01-20 1:11</td>\n",
       "      <td>NaN</td>\n",
       "      <td>NaN</td>\n",
       "      <td>NaN</td>\n",
       "      <td>NaN</td>\n",
       "      <td>NaN</td>\n",
       "      <td>NaN</td>\n",
       "      <td>NaN</td>\n",
       "    </tr>\n",
       "    <tr>\n",
       "      <th>13260</th>\n",
       "      <td>1000</td>\n",
       "      <td>ReadyInformClient</td>\n",
       "      <td>System</td>\n",
       "      <td>complete</td>\n",
       "      <td>1970-01-20 2:25</td>\n",
       "      <td>NaN</td>\n",
       "      <td>NaN</td>\n",
       "      <td>NaN</td>\n",
       "      <td>NaN</td>\n",
       "      <td>NaN</td>\n",
       "      <td>NaN</td>\n",
       "      <td>True</td>\n",
       "    </tr>\n",
       "    <tr>\n",
       "      <th>13261</th>\n",
       "      <td>1000</td>\n",
       "      <td>TicketReady</td>\n",
       "      <td>System</td>\n",
       "      <td>complete</td>\n",
       "      <td>1970-01-20 2:25</td>\n",
       "      <td>NaN</td>\n",
       "      <td>NaN</td>\n",
       "      <td>NaN</td>\n",
       "      <td>NaN</td>\n",
       "      <td>NaN</td>\n",
       "      <td>NaN</td>\n",
       "      <td>NaN</td>\n",
       "    </tr>\n",
       "  </tbody>\n",
       "</table>\n",
       "<p>13262 rows × 12 columns</p>\n",
       "</div>"
      ]
     },
     "metadata": {},
     "execution_count": 4
    }
   ],
   "metadata": {}
  },
  {
   "cell_type": "code",
   "execution_count": 5,
   "source": [
    "print(len(df['objectKey'].unique()))"
   ],
   "outputs": [
    {
     "output_type": "stream",
     "name": "stdout",
     "text": [
      "891\n"
     ]
    }
   ],
   "metadata": {}
  },
  {
   "cell_type": "code",
   "execution_count": 6,
   "source": [
    "df[df['taskID']=='InformClientWrongPlace']['caseID']"
   ],
   "outputs": [
    {
     "output_type": "execute_result",
     "data": {
      "text/plain": [
       "72         6\n",
       "74         7\n",
       "148       13\n",
       "519       40\n",
       "809       61\n",
       "        ... \n",
       "11492    871\n",
       "11650    883\n",
       "12132    918\n",
       "12454    942\n",
       "12785    966\n",
       "Name: caseID, Length: 73, dtype: int64"
      ]
     },
     "metadata": {},
     "execution_count": 6
    }
   ],
   "metadata": {}
  },
  {
   "cell_type": "code",
   "execution_count": 7,
   "source": [
    "df[df['RepairOK']==False]['caseID']"
   ],
   "outputs": [
    {
     "output_type": "execute_result",
     "data": {
      "text/plain": [
       "Series([], Name: caseID, dtype: int64)"
      ]
     },
     "metadata": {},
     "execution_count": 7
    }
   ],
   "metadata": {}
  },
  {
   "cell_type": "code",
   "execution_count": 8,
   "source": [
    "df[df['RepairInternally']==False]['RepairCode'].unique()"
   ],
   "outputs": [
    {
     "output_type": "execute_result",
     "data": {
      "text/plain": [
       "array([4.])"
      ]
     },
     "metadata": {},
     "execution_count": 8
    }
   ],
   "metadata": {}
  },
  {
   "cell_type": "code",
   "execution_count": 10,
   "source": [
    "df['RepairType'].unique()"
   ],
   "outputs": [
    {
     "output_type": "execute_result",
     "data": {
      "text/plain": [
       "array([nan, 'E', 'P', 'B'], dtype=object)"
      ]
     },
     "metadata": {},
     "execution_count": 10
    }
   ],
   "metadata": {}
  },
  {
   "cell_type": "code",
   "execution_count": 11,
   "source": [
    "df['RepairCode'].unique()"
   ],
   "outputs": [
    {
     "output_type": "execute_result",
     "data": {
      "text/plain": [
       "array([nan,  1.,  2.,  4.,  3.])"
      ]
     },
     "metadata": {},
     "execution_count": 11
    }
   ],
   "metadata": {}
  },
  {
   "cell_type": "code",
   "execution_count": null,
   "source": [],
   "outputs": [],
   "metadata": {}
  }
 ],
 "metadata": {
  "orig_nbformat": 4,
  "language_info": {
   "name": "python",
   "version": "3.9.1",
   "mimetype": "text/x-python",
   "codemirror_mode": {
    "name": "ipython",
    "version": 3
   },
   "pygments_lexer": "ipython3",
   "nbconvert_exporter": "python",
   "file_extension": ".py"
  },
  "kernelspec": {
   "name": "python3",
   "display_name": "Python 3.9.1 64-bit"
  },
  "interpreter": {
   "hash": "80eeffa7d850b33d3fa93fc9ebed7640620b85944d8f917a723cbdf673159708"
  }
 },
 "nbformat": 4,
 "nbformat_minor": 2
}